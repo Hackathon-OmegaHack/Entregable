{
 "cells": [
  {
   "cell_type": "code",
   "execution_count": 1,
   "metadata": {},
   "outputs": [],
   "source": [
    "import pandas as pd\n",
    "import numpy as np\n",
    "import tensorflow as tf\n",
    "from tensorflow.keras.models import Sequential\n",
    "from tensorflow.keras.layers import Dense, Dropout, BatchNormalization, Input\n",
    "from tensorflow.keras.callbacks import EarlyStopping\n",
    "from sklearn.model_selection import train_test_split, KFold\n",
    "from sklearn.metrics import f1_score"
   ]
  },
  {
   "cell_type": "code",
   "execution_count": 2,
   "metadata": {},
   "outputs": [
    {
     "name": "stdout",
     "output_type": "stream",
     "text": [
      "Index(['Medidor [W]', 'Refrigerator', 'Clothes washer', 'Clothes Iron',\n",
      "       'Computer', 'Oven', 'Play', 'TV', 'Sound system', 'Mes', 'Dia', 'Hora',\n",
      "       'Minuto', 'Dia_semana_Friday', 'Dia_semana_Monday',\n",
      "       'Dia_semana_Saturday', 'Dia_semana_Sunday', 'Dia_semana_Thursday',\n",
      "       'Dia_semana_Tuesday', 'Dia_semana_Wednesday'],\n",
      "      dtype='object')\n"
     ]
    }
   ],
   "source": [
    "import pandas as pd\n",
    "\n",
    "# Cargar el conjunto de datos desde un archivo CSV\n",
    "data_path = r\"C:\\Proyectos programación\\Modelos\\consumo_casa.csv\"\n",
    "data = pd.read_csv(data_path)\n",
    "\n",
    "# Eliminar la primera columna (asumiendo que se llama 'Unnamed: 0')\n",
    "data.drop(columns=['Unnamed: 0'], inplace=True)\n",
    "\n",
    "# Convertir la columna 'Fecha' a tipo datetime si no lo está\n",
    "data['Fecha'] = pd.to_datetime(data['Fecha'])\n",
    "\n",
    "# Dividir la columna 'Fecha' en mes, día, hora y minuto\n",
    "data['Mes'] = data['Fecha'].dt.month\n",
    "data['Dia'] = data['Fecha'].dt.day\n",
    "data['Hora'] = data['Fecha'].dt.hour\n",
    "data['Minuto'] = data['Fecha'].dt.minute\n",
    "\n",
    "# Agregar una nueva columna para el día de la semana en formato de texto\n",
    "data['Dia_semana'] = data['Fecha'].dt.day_name()\n",
    "\n",
    "# Convertir la columna 'Dia_semana' en variables dummy\n",
    "data = pd.get_dummies(data, columns=['Dia_semana'])\n",
    "\n",
    "data.drop(columns=['Fecha'], inplace=True)\n",
    "\n",
    "print(data.columns)\n"
   ]
  },
  {
   "cell_type": "code",
   "execution_count": 3,
   "metadata": {},
   "outputs": [
    {
     "name": "stdout",
     "output_type": "stream",
     "text": [
      "Epoch 1/50\n",
      "\u001b[1m4854/4854\u001b[0m \u001b[32m━━━━━━━━━━━━━━━━━━━━\u001b[0m\u001b[37m\u001b[0m \u001b[1m15s\u001b[0m 3ms/step - loss: 0.2760 - val_loss: 0.0823\n",
      "Epoch 2/50\n",
      "\u001b[1m4854/4854\u001b[0m \u001b[32m━━━━━━━━━━━━━━━━━━━━\u001b[0m\u001b[37m\u001b[0m \u001b[1m14s\u001b[0m 3ms/step - loss: 0.0831 - val_loss: 0.0748\n",
      "Epoch 3/50\n",
      "\u001b[1m4854/4854\u001b[0m \u001b[32m━━━━━━━━━━━━━━━━━━━━\u001b[0m\u001b[37m\u001b[0m \u001b[1m13s\u001b[0m 3ms/step - loss: 0.0771 - val_loss: 0.0651\n",
      "Epoch 4/50\n",
      "\u001b[1m4854/4854\u001b[0m \u001b[32m━━━━━━━━━━━━━━━━━━━━\u001b[0m\u001b[37m\u001b[0m \u001b[1m16s\u001b[0m 3ms/step - loss: 0.0712 - val_loss: 0.0629\n",
      "Epoch 5/50\n",
      "\u001b[1m4854/4854\u001b[0m \u001b[32m━━━━━━━━━━━━━━━━━━━━\u001b[0m\u001b[37m\u001b[0m \u001b[1m15s\u001b[0m 3ms/step - loss: 0.0694 - val_loss: 0.0619\n",
      "Epoch 6/50\n",
      "\u001b[1m4854/4854\u001b[0m \u001b[32m━━━━━━━━━━━━━━━━━━━━\u001b[0m\u001b[37m\u001b[0m \u001b[1m19s\u001b[0m 4ms/step - loss: 0.0682 - val_loss: 0.0614\n",
      "Epoch 7/50\n",
      "\u001b[1m4854/4854\u001b[0m \u001b[32m━━━━━━━━━━━━━━━━━━━━\u001b[0m\u001b[37m\u001b[0m \u001b[1m17s\u001b[0m 4ms/step - loss: 0.0683 - val_loss: 0.0611\n",
      "Epoch 8/50\n",
      "\u001b[1m4854/4854\u001b[0m \u001b[32m━━━━━━━━━━━━━━━━━━━━\u001b[0m\u001b[37m\u001b[0m \u001b[1m19s\u001b[0m 4ms/step - loss: 0.0672 - val_loss: 0.0608\n",
      "Epoch 9/50\n",
      "\u001b[1m4854/4854\u001b[0m \u001b[32m━━━━━━━━━━━━━━━━━━━━\u001b[0m\u001b[37m\u001b[0m \u001b[1m17s\u001b[0m 4ms/step - loss: 0.0675 - val_loss: 0.0608\n",
      "Epoch 10/50\n",
      "\u001b[1m4854/4854\u001b[0m \u001b[32m━━━━━━━━━━━━━━━━━━━━\u001b[0m\u001b[37m\u001b[0m \u001b[1m18s\u001b[0m 4ms/step - loss: 0.0672 - val_loss: 0.0606\n",
      "Epoch 11/50\n",
      "\u001b[1m4854/4854\u001b[0m \u001b[32m━━━━━━━━━━━━━━━━━━━━\u001b[0m\u001b[37m\u001b[0m \u001b[1m17s\u001b[0m 4ms/step - loss: 0.0666 - val_loss: 0.0604\n",
      "Epoch 12/50\n",
      "\u001b[1m4854/4854\u001b[0m \u001b[32m━━━━━━━━━━━━━━━━━━━━\u001b[0m\u001b[37m\u001b[0m \u001b[1m18s\u001b[0m 4ms/step - loss: 0.0668 - val_loss: 0.0602\n",
      "Epoch 13/50\n",
      "\u001b[1m4854/4854\u001b[0m \u001b[32m━━━━━━━━━━━━━━━━━━━━\u001b[0m\u001b[37m\u001b[0m \u001b[1m18s\u001b[0m 4ms/step - loss: 0.0663 - val_loss: 0.0605\n",
      "Epoch 14/50\n",
      "\u001b[1m4854/4854\u001b[0m \u001b[32m━━━━━━━━━━━━━━━━━━━━\u001b[0m\u001b[37m\u001b[0m \u001b[1m18s\u001b[0m 4ms/step - loss: 0.0664 - val_loss: 0.0602\n",
      "Epoch 15/50\n",
      "\u001b[1m4854/4854\u001b[0m \u001b[32m━━━━━━━━━━━━━━━━━━━━\u001b[0m\u001b[37m\u001b[0m \u001b[1m16s\u001b[0m 3ms/step - loss: 0.0662 - val_loss: 0.0600\n",
      "Epoch 16/50\n",
      "\u001b[1m4854/4854\u001b[0m \u001b[32m━━━━━━━━━━━━━━━━━━━━\u001b[0m\u001b[37m\u001b[0m \u001b[1m15s\u001b[0m 3ms/step - loss: 0.0661 - val_loss: 0.0599\n",
      "Epoch 17/50\n",
      "\u001b[1m4854/4854\u001b[0m \u001b[32m━━━━━━━━━━━━━━━━━━━━\u001b[0m\u001b[37m\u001b[0m \u001b[1m18s\u001b[0m 4ms/step - loss: 0.0659 - val_loss: 0.0598\n",
      "Epoch 18/50\n",
      "\u001b[1m4854/4854\u001b[0m \u001b[32m━━━━━━━━━━━━━━━━━━━━\u001b[0m\u001b[37m\u001b[0m \u001b[1m18s\u001b[0m 4ms/step - loss: 0.0656 - val_loss: 0.0597\n",
      "Epoch 19/50\n",
      "\u001b[1m4854/4854\u001b[0m \u001b[32m━━━━━━━━━━━━━━━━━━━━\u001b[0m\u001b[37m\u001b[0m \u001b[1m16s\u001b[0m 3ms/step - loss: 0.0656 - val_loss: 0.0598\n",
      "Epoch 20/50\n",
      "\u001b[1m4854/4854\u001b[0m \u001b[32m━━━━━━━━━━━━━━━━━━━━\u001b[0m\u001b[37m\u001b[0m \u001b[1m17s\u001b[0m 4ms/step - loss: 0.0655 - val_loss: 0.0598\n",
      "Epoch 21/50\n",
      "\u001b[1m4854/4854\u001b[0m \u001b[32m━━━━━━━━━━━━━━━━━━━━\u001b[0m\u001b[37m\u001b[0m \u001b[1m16s\u001b[0m 3ms/step - loss: 0.0652 - val_loss: 0.0592\n",
      "Epoch 22/50\n",
      "\u001b[1m4854/4854\u001b[0m \u001b[32m━━━━━━━━━━━━━━━━━━━━\u001b[0m\u001b[37m\u001b[0m \u001b[1m17s\u001b[0m 3ms/step - loss: 0.0651 - val_loss: 0.0593\n",
      "Epoch 23/50\n",
      "\u001b[1m4854/4854\u001b[0m \u001b[32m━━━━━━━━━━━━━━━━━━━━\u001b[0m\u001b[37m\u001b[0m \u001b[1m17s\u001b[0m 4ms/step - loss: 0.0652 - val_loss: 0.0593\n",
      "Epoch 24/50\n",
      "\u001b[1m4854/4854\u001b[0m \u001b[32m━━━━━━━━━━━━━━━━━━━━\u001b[0m\u001b[37m\u001b[0m \u001b[1m18s\u001b[0m 4ms/step - loss: 0.0652 - val_loss: 0.0595\n",
      "Epoch 25/50\n",
      "\u001b[1m4854/4854\u001b[0m \u001b[32m━━━━━━━━━━━━━━━━━━━━\u001b[0m\u001b[37m\u001b[0m \u001b[1m18s\u001b[0m 4ms/step - loss: 0.0652 - val_loss: 0.0591\n",
      "Epoch 26/50\n",
      "\u001b[1m4854/4854\u001b[0m \u001b[32m━━━━━━━━━━━━━━━━━━━━\u001b[0m\u001b[37m\u001b[0m \u001b[1m18s\u001b[0m 4ms/step - loss: 0.0648 - val_loss: 0.0594\n",
      "Epoch 27/50\n",
      "\u001b[1m4854/4854\u001b[0m \u001b[32m━━━━━━━━━━━━━━━━━━━━\u001b[0m\u001b[37m\u001b[0m \u001b[1m17s\u001b[0m 4ms/step - loss: 0.0651 - val_loss: 0.0590\n",
      "Epoch 28/50\n",
      "\u001b[1m4854/4854\u001b[0m \u001b[32m━━━━━━━━━━━━━━━━━━━━\u001b[0m\u001b[37m\u001b[0m \u001b[1m18s\u001b[0m 4ms/step - loss: 0.0653 - val_loss: 0.0595\n",
      "Epoch 29/50\n",
      "\u001b[1m4854/4854\u001b[0m \u001b[32m━━━━━━━━━━━━━━━━━━━━\u001b[0m\u001b[37m\u001b[0m \u001b[1m17s\u001b[0m 4ms/step - loss: 0.0648 - val_loss: 0.0593\n",
      "Epoch 30/50\n",
      "\u001b[1m4854/4854\u001b[0m \u001b[32m━━━━━━━━━━━━━━━━━━━━\u001b[0m\u001b[37m\u001b[0m \u001b[1m18s\u001b[0m 4ms/step - loss: 0.0648 - val_loss: 0.0590\n",
      "Epoch 31/50\n",
      "\u001b[1m4854/4854\u001b[0m \u001b[32m━━━━━━━━━━━━━━━━━━━━\u001b[0m\u001b[37m\u001b[0m \u001b[1m17s\u001b[0m 3ms/step - loss: 0.0641 - val_loss: 0.0590\n",
      "Epoch 32/50\n",
      "\u001b[1m4854/4854\u001b[0m \u001b[32m━━━━━━━━━━━━━━━━━━━━\u001b[0m\u001b[37m\u001b[0m \u001b[1m17s\u001b[0m 4ms/step - loss: 0.0644 - val_loss: 0.0590\n",
      "Epoch 33/50\n",
      "\u001b[1m4854/4854\u001b[0m \u001b[32m━━━━━━━━━━━━━━━━━━━━\u001b[0m\u001b[37m\u001b[0m \u001b[1m17s\u001b[0m 4ms/step - loss: 0.0641 - val_loss: 0.0588\n",
      "Epoch 34/50\n",
      "\u001b[1m4854/4854\u001b[0m \u001b[32m━━━━━━━━━━━━━━━━━━━━\u001b[0m\u001b[37m\u001b[0m \u001b[1m19s\u001b[0m 4ms/step - loss: 0.0646 - val_loss: 0.0590\n",
      "Epoch 35/50\n",
      "\u001b[1m4854/4854\u001b[0m \u001b[32m━━━━━━━━━━━━━━━━━━━━\u001b[0m\u001b[37m\u001b[0m \u001b[1m15s\u001b[0m 3ms/step - loss: 0.0642 - val_loss: 0.0589\n",
      "Epoch 36/50\n",
      "\u001b[1m4854/4854\u001b[0m \u001b[32m━━━━━━━━━━━━━━━━━━━━\u001b[0m\u001b[37m\u001b[0m \u001b[1m15s\u001b[0m 3ms/step - loss: 0.0644 - val_loss: 0.0587\n",
      "Epoch 37/50\n",
      "\u001b[1m4854/4854\u001b[0m \u001b[32m━━━━━━━━━━━━━━━━━━━━\u001b[0m\u001b[37m\u001b[0m \u001b[1m16s\u001b[0m 3ms/step - loss: 0.0641 - val_loss: 0.0589\n",
      "Epoch 38/50\n",
      "\u001b[1m4854/4854\u001b[0m \u001b[32m━━━━━━━━━━━━━━━━━━━━\u001b[0m\u001b[37m\u001b[0m \u001b[1m15s\u001b[0m 3ms/step - loss: 0.0641 - val_loss: 0.0583\n",
      "Epoch 39/50\n",
      "\u001b[1m4854/4854\u001b[0m \u001b[32m━━━━━━━━━━━━━━━━━━━━\u001b[0m\u001b[37m\u001b[0m \u001b[1m16s\u001b[0m 3ms/step - loss: 0.0640 - val_loss: 0.0588\n",
      "Epoch 40/50\n",
      "\u001b[1m4854/4854\u001b[0m \u001b[32m━━━━━━━━━━━━━━━━━━━━\u001b[0m\u001b[37m\u001b[0m \u001b[1m16s\u001b[0m 3ms/step - loss: 0.0640 - val_loss: 0.0586\n",
      "Epoch 41/50\n",
      "\u001b[1m4854/4854\u001b[0m \u001b[32m━━━━━━━━━━━━━━━━━━━━\u001b[0m\u001b[37m\u001b[0m \u001b[1m16s\u001b[0m 3ms/step - loss: 0.0641 - val_loss: 0.0586\n",
      "Epoch 42/50\n",
      "\u001b[1m4854/4854\u001b[0m \u001b[32m━━━━━━━━━━━━━━━━━━━━\u001b[0m\u001b[37m\u001b[0m \u001b[1m16s\u001b[0m 3ms/step - loss: 0.0642 - val_loss: 0.0587\n",
      "Epoch 43/50\n",
      "\u001b[1m4854/4854\u001b[0m \u001b[32m━━━━━━━━━━━━━━━━━━━━\u001b[0m\u001b[37m\u001b[0m \u001b[1m16s\u001b[0m 3ms/step - loss: 0.0643 - val_loss: 0.0583\n",
      "Epoch 44/50\n",
      "\u001b[1m4854/4854\u001b[0m \u001b[32m━━━━━━━━━━━━━━━━━━━━\u001b[0m\u001b[37m\u001b[0m \u001b[1m16s\u001b[0m 3ms/step - loss: 0.0640 - val_loss: 0.0584\n",
      "Epoch 45/50\n",
      "\u001b[1m4854/4854\u001b[0m \u001b[32m━━━━━━━━━━━━━━━━━━━━\u001b[0m\u001b[37m\u001b[0m \u001b[1m16s\u001b[0m 3ms/step - loss: 0.0642 - val_loss: 0.0585\n",
      "Epoch 46/50\n",
      "\u001b[1m4854/4854\u001b[0m \u001b[32m━━━━━━━━━━━━━━━━━━━━\u001b[0m\u001b[37m\u001b[0m \u001b[1m16s\u001b[0m 3ms/step - loss: 0.0641 - val_loss: 0.0585\n",
      "Epoch 47/50\n",
      "\u001b[1m4854/4854\u001b[0m \u001b[32m━━━━━━━━━━━━━━━━━━━━\u001b[0m\u001b[37m\u001b[0m \u001b[1m15s\u001b[0m 3ms/step - loss: 0.0641 - val_loss: 0.0583\n",
      "Epoch 48/50\n",
      "\u001b[1m4854/4854\u001b[0m \u001b[32m━━━━━━━━━━━━━━━━━━━━\u001b[0m\u001b[37m\u001b[0m \u001b[1m16s\u001b[0m 3ms/step - loss: 0.0639 - val_loss: 0.0583\n",
      "Epoch 49/50\n",
      "\u001b[1m4854/4854\u001b[0m \u001b[32m━━━━━━━━━━━━━━━━━━━━\u001b[0m\u001b[37m\u001b[0m \u001b[1m16s\u001b[0m 3ms/step - loss: 0.0639 - val_loss: 0.0585\n",
      "Epoch 50/50\n",
      "\u001b[1m4854/4854\u001b[0m \u001b[32m━━━━━━━━━━━━━━━━━━━━\u001b[0m\u001b[37m\u001b[0m \u001b[1m15s\u001b[0m 3ms/step - loss: 0.0637 - val_loss: 0.0583\n",
      "MSE en entrenamiento: 0.058340054005384445\n",
      "MSE en prueba: 0.058270588517189026\n"
     ]
    }
   ],
   "source": [
    "import numpy as np\n",
    "from sklearn.model_selection import train_test_split\n",
    "from sklearn.ensemble import RandomForestRegressor\n",
    "from sklearn.preprocessing import MinMaxScaler\n",
    "\n",
    "# Aplicar función seno a las variables de predicción (y)\n",
    "variables_prediccion = ['Refrigerator', 'Clothes washer', 'Clothes Iron', 'Computer', 'Oven', 'Play', 'TV', 'Sound system', 'Medidor [W]']\n",
    "for variable in variables_prediccion:\n",
    "    data[f'{variable}_seno'] = np.sin(2 * np.pi * data[variable] / 24)\n",
    "\n",
    "# Dividir los datos en características (X) y etiquetas (y)\n",
    "X = data[['Mes', 'Dia', 'Hora', 'Minuto', 'Medidor [W]_seno','Dia_semana_Friday', 'Dia_semana_Monday',\n",
    "       'Dia_semana_Saturday', 'Dia_semana_Sunday', 'Dia_semana_Thursday',\n",
    "       'Dia_semana_Tuesday', 'Dia_semana_Wednesday']]\n",
    "y = data[[f'{variable}_seno' for variable in variables_prediccion if variable != 'Medidor [W]']]\n",
    "\n",
    "# Dividir los datos en conjunto de entrenamiento y prueba\n",
    "X_train, X_test, y_train, y_test = train_test_split(X, y, test_size=0.2, random_state=42)\n",
    "\n",
    "X_train = X_train.astype('float32')\n",
    "y_train = y_train.astype('float32')\n",
    "X_test = X_test.astype('float32')\n",
    "y_test = y_test.astype('float32')\n",
    "\n",
    "# Construir y entrenar el modelo de red neuronal\n",
    "model = Sequential()\n",
    "model.add(Input(shape=(X_train.shape[1],)))\n",
    "model.add(Dense(64, activation=lambda x: tf.math.sin(x)))\n",
    "model.add(BatchNormalization())\n",
    "model.add(Dropout(0.2))\n",
    "model.add(Dense(32, activation=lambda x: tf.math.cos(x)))\n",
    "model.add(BatchNormalization())\n",
    "model.add(Dropout(0.2))\n",
    "model.add(Dense(y_train.shape[1], activation='linear'))\n",
    "model.compile(optimizer='adam', loss='mse')\n",
    "\n",
    "early_stopping = EarlyStopping(monitor='val_loss', patience=10, verbose=1)\n",
    "model.fit(X_train, y_train, epochs=50, batch_size=32, validation_data=(X_test, y_test), callbacks=[early_stopping])\n",
    "\n",
    "# Evaluar el modelo\n",
    "train_score = model.evaluate(X_train, y_train, verbose=0)\n",
    "test_score = model.evaluate(X_test, y_test, verbose=0)\n",
    "\n",
    "print(\"MSE en entrenamiento:\", train_score)\n",
    "print(\"MSE en prueba:\", test_score)\n"
   ]
  },
  {
   "cell_type": "code",
   "execution_count": 4,
   "metadata": {},
   "outputs": [
    {
     "name": "stdout",
     "output_type": "stream",
     "text": [
      "Index(['Mes', 'Dia', 'Hora', 'Minuto', 'Medidor [W]_seno', 'Dia_semana_Friday',\n",
      "       'Dia_semana_Monday', 'Dia_semana_Saturday', 'Dia_semana_Sunday',\n",
      "       'Dia_semana_Thursday', 'Dia_semana_Tuesday', 'Dia_semana_Wednesday'],\n",
      "      dtype='object')\n"
     ]
    }
   ],
   "source": [
    "print(X.columns)"
   ]
  },
  {
   "cell_type": "code",
   "execution_count": 5,
   "metadata": {},
   "outputs": [
    {
     "name": "stdout",
     "output_type": "stream",
     "text": [
      "\u001b[1m1214/1214\u001b[0m \u001b[32m━━━━━━━━━━━━━━━━━━━━\u001b[0m\u001b[37m\u001b[0m \u001b[1m2s\u001b[0m 1ms/step\n",
      "Error cuadrático medio: 0.058261532\n"
     ]
    }
   ],
   "source": [
    "from sklearn.metrics import mean_squared_error\n",
    "\n",
    "# Predecir los valores en el conjunto de prueba\n",
    "y_pred = model.predict(X_test)\n",
    "\n",
    "# Calcular el error cuadrático medio\n",
    "mse = mean_squared_error(y_test, y_pred)\n",
    "\n",
    "print(\"Error cuadrático medio:\", mse)\n"
   ]
  },
  {
   "cell_type": "code",
   "execution_count": 6,
   "metadata": {},
   "outputs": [
    {
     "name": "stdout",
     "output_type": "stream",
     "text": [
      "\u001b[1m1214/1214\u001b[0m \u001b[32m━━━━━━━━━━━━━━━━━━━━\u001b[0m\u001b[37m\u001b[0m \u001b[1m2s\u001b[0m 1ms/step\n",
      "MSE para Refrigerator_seno: 0.18617171049118042\n",
      "MSE para Clothes washer_seno: 0.03733524680137634\n",
      "MSE para Clothes Iron_seno: 0.014297968707978725\n",
      "MSE para Computer_seno: 0.030152691528201103\n",
      "MSE para Oven_seno: 0.016584323719143867\n",
      "MSE para Play_seno: 0.05992512032389641\n",
      "MSE para TV_seno: 0.0994337871670723\n",
      "MSE para Sound system_seno: 0.022193606942892075\n"
     ]
    }
   ],
   "source": [
    "from sklearn.metrics import mean_squared_error\n",
    "\n",
    "# Predecir los valores en el conjunto de prueba\n",
    "y_pred = model.predict(X_test)\n",
    "\n",
    "# Calcular el error cuadrático medio por cada columna\n",
    "mse_por_columna = {}\n",
    "for i, columna in enumerate(y.columns):\n",
    "    mse_por_columna[columna] = mean_squared_error(y_test.iloc[:, i], y_pred[:, i])\n",
    "\n",
    "# Imprimir el MSE por cada columna\n",
    "for columna, mse_valor in mse_por_columna.items():\n",
    "    print(f\"MSE para {columna}: {mse_valor}\")\n"
   ]
  },
  {
   "cell_type": "code",
   "execution_count": 7,
   "metadata": {},
   "outputs": [
    {
     "name": "stdout",
     "output_type": "stream",
     "text": [
      "Valores reales y predichos para la variable 'Play' para los primeros 5 datos:\n",
      "   Valor Real  Valor Predicho\n",
      "0    0.284015        0.181415\n",
      "1    0.078459        0.238422\n",
      "2    0.000000        0.409804\n",
      "3    0.078459        0.099182\n",
      "4    0.000000        0.046530\n",
      "5    0.309017        0.134452\n",
      "6    0.078459        0.139115\n",
      "7    0.000000        0.562360\n",
      "8    0.078459        0.214929\n",
      "9    0.000000        0.069441\n"
     ]
    }
   ],
   "source": [
    "# Elegir la variable para la cual mostrar los valores (por ejemplo, 'Refrigerator')\n",
    "variable_elegida = 'Play'\n",
    "\n",
    "# Obtener los primeros 5 valores reales y predichos para la variable elegida\n",
    "primeros_5_valores = pd.DataFrame({\n",
    "    'Valor Real': y_test[f'{variable_elegida}_seno'].iloc[:10].values,\n",
    "    'Valor Predicho': y_pred[:10, y.columns.get_loc(f'{variable_elegida}_seno')]\n",
    "})\n",
    "\n",
    "# Mostrar los primeros 5 valores reales y predichos\n",
    "print(f\"Valores reales y predichos para la variable '{variable_elegida}' para los primeros 5 datos:\")\n",
    "print(primeros_5_valores)\n"
   ]
  }
 ],
 "metadata": {
  "kernelspec": {
   "display_name": "Python 3",
   "language": "python",
   "name": "python3"
  },
  "language_info": {
   "codemirror_mode": {
    "name": "ipython",
    "version": 3
   },
   "file_extension": ".py",
   "mimetype": "text/x-python",
   "name": "python",
   "nbconvert_exporter": "python",
   "pygments_lexer": "ipython3",
   "version": "3.12.2"
  }
 },
 "nbformat": 4,
 "nbformat_minor": 2
}
